{
 "cells": [
  {
   "cell_type": "markdown",
   "metadata": {},
   "source": [
    "### Isolation Forest "
   ]
  },
  {
   "cell_type": "code",
   "execution_count": 2,
   "metadata": {},
   "outputs": [],
   "source": [
    "import pandas as pd\n",
    "from sklearn.ensemble import IsolationForest\n",
    "from sklearn.preprocessing import OneHotEncoder,MinMaxScaler\n",
    "from sklearn.model_selection import train_test_split\n",
    "from sklearn.compose import ColumnTransformer\n",
    "demand_data = pd.read_csv(\"../simulated_data/simulated_demand.csv\")\n",
    "demand_data.starttime = pd.to_datetime(demand_data.starttime)\n",
    "demand_data=demand_data.groupby([\"location\", \"car_type\"]).resample(\"5min\", on=\"starttime\")[\"id\"].count().reset_index(name=\"count\")\n",
    "demand_data['hour'] = demand_data.starttime.dt.hour\n",
    "demand_data = demand_data[['location','car_type', 'hour','count']]\n"
   ]
  },
  {
   "cell_type": "code",
   "execution_count": 212,
   "metadata": {},
   "outputs": [
    {
     "name": "stdout",
     "output_type": "stream",
     "text": [
      "len  541 sum 499\n"
     ]
    },
    {
     "name": "stderr",
     "output_type": "stream",
     "text": [
      "c:\\Users\\janguy\\Anaconda3\\envs\\dlresearch\\lib\\site-packages\\mlflow\\models\\signature.py:129: UserWarning: Hint: Inferred schema contains integer column(s). Integer columns in Python cannot represent missing values. If your input data contains missing values at inference time, it will be encoded as floats and will cause a schema enforcement error. The best way to avoid this problem is to infer the model schema based on a realistic data sample (training dataset) that includes missing values. Alternatively, you can declare integer columns as doubles (float64) whenever these columns may have missing values. See `Handling Integers With Missing Values <https://www.mlflow.org/docs/latest/models.html#handling-integers-with-missing-values>`_ for more details.\n",
      "  inputs = _infer_schema(model_input)\n"
     ]
    },
    {
     "data": {
      "text/plain": [
       "ModelInfo(artifact_path='isolation_forest', flavors={'python_function': {'model_path': 'model.pkl', 'loader_module': 'mlflow.sklearn', 'python_version': '3.8.5', 'env': 'conda.yaml'}, 'sklearn': {'pickled_model': 'model.pkl', 'sklearn_version': '1.0.2', 'serialization_format': 'cloudpickle'}}, model_uri='runs:/6e98d315dbf142dc895bcd92d44dc5b9/isolation_forest', model_uuid='da981cc1c6354ece9864f73d07d1da2c', run_id='6e98d315dbf142dc895bcd92d44dc5b9', saved_input_example_info=None, signature_dict={'inputs': '[{\"name\": \"location\", \"type\": \"string\"}, {\"name\": \"car_type\", \"type\": \"string\"}, {\"name\": \"hour\", \"type\": \"long\"}, {\"name\": \"count\", \"type\": \"long\"}]', 'outputs': '[{\"type\": \"tensor\", \"tensor-spec\": {\"dtype\": \"int32\", \"shape\": [-1]}}]'}, utc_time_created='2022-11-09 00:32:00.778942')"
      ]
     },
     "execution_count": 212,
     "metadata": {},
     "output_type": "execute_result"
    }
   ],
   "source": [
    "import random\n",
    "from sklearn.pipeline import Pipeline\n",
    "import mlflow\n",
    "import mlflow.sklearn\n",
    "from mlflow.models.signature import infer_signature\n",
    "\n",
    "ct = ColumnTransformer([(\"ohe\", OneHotEncoder(),['car_type','location'])], remainder=\"passthrough\")\n",
    "ct.fit(demand_data)\n",
    "X_train, X_test = train_test_split(demand_data,test_size=0.2)\n",
    "# X_test['count'] = X_test['count'] \n",
    "\n",
    "clf = IsolationForest(contamination=0.04)\n",
    "pipeline = Pipeline([(\"ct\", ct), (\"model\", clf)])\n",
    "\n",
    "pipeline.fit(X_train)\n",
    "predictions = pipeline.predict(X_test)\n",
    "print(\"len \", len(predictions), \"sum\", sum(predictions))\n",
    "signature = infer_signature(X_train, pipeline.predict(X_train))\n",
    "mlflow.sklearn.log_model(pipeline, \"isolation_forest\", signature=signature)\n",
    "\n"
   ]
  },
  {
   "cell_type": "code",
   "execution_count": null,
   "metadata": {},
   "outputs": [],
   "source": [
    "pd.read_csv(\"mlruns/0/6e98d315dbf142dc895bcd92d44dc5b9/artifacts/isolation_forest/\")"
   ]
  },
  {
   "cell_type": "markdown",
   "metadata": {},
   "source": [
    "az ml model create --name isolation_forest --version 1 --type mlflow_model --path ./mlruns/0/6e98d315dbf142dc895bcd92d44dc5b9/artifacts/isolation_forest/ "
   ]
  },
  {
   "cell_type": "code",
   "execution_count": 17,
   "metadata": {},
   "outputs": [
    {
     "name": "stdout",
     "output_type": "stream",
     "text": [
      "The request failed with status code: 424\n",
      "server: azureml-frontdoor\n",
      "date: Thu, 10 Nov 2022 16:21:32 GMT\n",
      "content-type: application/json\n",
      "content-length: 70\n",
      "x-ms-run-function-failed: False\n",
      "x-ms-server-version: azmlinfsrv/0.7.6\n",
      "x-ms-request-id: 8f9277df-0fb9-4dc3-b62a-9535490ad689\n",
      "x-request-id: 8f9277df-0fb9-4dc3-b62a-9535490ad689\n",
      "ms-azureml-model-error-reason: model_error\n",
      "ms-azureml-model-error-statuscode: 400\n",
      "azureml-model-deployment: deployment1\n",
      "connection: close\n",
      "\n",
      "\n",
      "{\"message\": \"A value is not provided for the 'input_data' parameter.\"}\n"
     ]
    }
   ],
   "source": [
    "import urllib.request\n",
    "import json\n",
    "import os\n",
    "import ssl\n",
    "\n",
    "def allowSelfSignedHttps(allowed):\n",
    "    # bypass the server certificate verification on client side\n",
    "    if allowed and not os.environ.get('PYTHONHTTPSVERIFY', '') and getattr(ssl, '_create_unverified_context', None):\n",
    "        ssl._create_default_https_context = ssl._create_unverified_context\n",
    "\n",
    "allowSelfSignedHttps(True) # this line is needed if you use self-signed certificate in your scoring service.\n",
    "\n",
    "# Request data goes here\n",
    "# The example below assumes JSON formatting which may be updated\n",
    "# depending on the format your endpoint expects.\n",
    "# More information can be found here:\n",
    "# https://docs.microsoft.com/azure/machine-learning/how-to-deploy-advanced-entry-script\n",
    "data =  {\n",
    "  \"Inputs\": {\n",
    "    \"data\": demand_data.head().to_dict(orient=\"records\")\n",
    "  }\n",
    "}\n",
    "\n",
    "body = str.encode(json.dumps(data))\n",
    "\n",
    "url = 'https://anomaly-detection.westus.inference.ml.azure.com/score'\n",
    "api_key = '' # Replace this with the API key for the web service\n",
    "\n",
    "# The azureml-model-deployment header will force the request to go to a specific deployment.\n",
    "# Remove this header to have the request observe the endpoint traffic rules\n",
    "headers = {'Content-Type':'application/json', 'Authorization':('Bearer '+ api_key), 'azureml-model-deployment': 'deployment1' }\n",
    "\n",
    "req = urllib.request.Request(url, body, headers)\n",
    "\n",
    "try:\n",
    "    response = urllib.request.urlopen(req)\n",
    "\n",
    "    result = response.read()\n",
    "    print(result)\n",
    "except urllib.error.HTTPError as error:\n",
    "    print(\"The request failed with status code: \" + str(error.code))\n",
    "\n",
    "    # Print the headers - they include the requert ID and the timestamp, which are useful for debugging the failure\n",
    "    print(error.info())\n",
    "    print(error.read().decode(\"utf8\", 'ignore'))"
   ]
  },
  {
   "cell_type": "code",
   "execution_count": 14,
   "metadata": {},
   "outputs": [
    {
     "data": {
      "text/plain": [
       "'[{\"location\":\"loc_0\",\"car_type\":\"comfort\",\"hour\":16,\"count\":1},{\"location\":\"loc_0\",\"car_type\":\"comfort\",\"hour\":16,\"count\":1},{\"location\":\"loc_0\",\"car_type\":\"comfort\",\"hour\":16,\"count\":3},{\"location\":\"loc_0\",\"car_type\":\"comfort\",\"hour\":16,\"count\":5},{\"location\":\"loc_0\",\"car_type\":\"comfort\",\"hour\":17,\"count\":2}]'"
      ]
     },
     "execution_count": 14,
     "metadata": {},
     "output_type": "execute_result"
    }
   ],
   "source": []
  },
  {
   "cell_type": "code",
   "execution_count": 19,
   "metadata": {},
   "outputs": [
    {
     "name": "stdout",
     "output_type": "stream",
     "text": [
      "b'\"[1, 1, 1, 1, 1]\"'\n"
     ]
    }
   ],
   "source": [
    "import urllib.request\n",
    "import json\n",
    "import os\n",
    "import ssl\n",
    "\n",
    "def allowSelfSignedHttps(allowed):\n",
    "    # bypass the server certificate verification on client side\n",
    "    if allowed and not os.environ.get('PYTHONHTTPSVERIFY', '') and getattr(ssl, '_create_unverified_context', None):\n",
    "        ssl._create_default_https_context = ssl._create_unverified_context\n",
    "\n",
    "allowSelfSignedHttps(True) # this line is needed if you use self-signed certificate in your scoring service.\n",
    "\n",
    "# Request data goes here\n",
    "# The example below assumes JSON formatting which may be updated\n",
    "# depending on the format your endpoint expects.\n",
    "# More information can be found here:\n",
    "# https://docs.microsoft.com/azure/machine-learning/how-to-deploy-advanced-entry-script\n",
    "data =  {\n",
    "  \"Inputs\": {\n",
    "    \"data\": [\n",
    "      {\n",
    "        \"location\": \"loc_0\",\n",
    "        \"car_type\": \"comfort\",\n",
    "        \"hour\": 15,\n",
    "        \"count\": 2\n",
    "      },\n",
    "      {\n",
    "        \"location\": \"loc_0\",\n",
    "        \"car_type\": \"comfort\",\n",
    "        \"hour\": 16,\n",
    "        \"count\": 3\n",
    "      }\n",
    "    ]\n",
    "  }\n",
    "}\n",
    "data =  {\n",
    "  \"Inputs\": {\n",
    "    \"data\": demand_data.head().to_dict()\n",
    "  }\n",
    "}\n",
    "\n",
    "body = str.encode(json.dumps(data))\n",
    "\n",
    "url = 'https://anomaly-detection.westus.inference.ml.azure.com/score'\n",
    "api_key = 'x02RC8IWFJ5z7l6g3ya290vuyVxGRIjn' # Replace this with the API key for the web service\n",
    "\n",
    "# The azureml-model-deployment header will force the request to go to a specific deployment.\n",
    "# Remove this header to have the request observe the endpoint traffic rules\n",
    "headers = {'Content-Type':'application/json', 'Authorization':('Bearer '+ api_key), 'azureml-model-deployment': 'deployment2' }\n",
    "\n",
    "req = urllib.request.Request(url, body, headers)\n",
    "\n",
    "try:\n",
    "    response = urllib.request.urlopen(req)\n",
    "\n",
    "    result = response.read()\n",
    "    print(result)\n",
    "except urllib.error.HTTPError as error:\n",
    "    print(\"The request failed with status code: \" + str(error.code))\n",
    "\n",
    "    # Print the headers - they include the requert ID and the timestamp, which are useful for debugging the failure\n",
    "    print(error.info())\n",
    "    print(error.read().decode(\"utf8\", 'ignore'))"
   ]
  },
  {
   "cell_type": "code",
   "execution_count": 227,
   "metadata": {},
   "outputs": [
    {
     "data": {
      "text/plain": [
       "array([1, 1, 1, 1, 1])"
      ]
     },
     "execution_count": 227,
     "metadata": {},
     "output_type": "execute_result"
    }
   ],
   "source": [
    "model = mlflow.sklearn.load_model(model_uri=\"mlruns/0/6e98d315dbf142dc895bcd92d44dc5b9/artifacts/isolation_forest/\")\n",
    "model.predict(demand_data.head())"
   ]
  },
  {
   "cell_type": "code",
   "execution_count": 3,
   "metadata": {},
   "outputs": [
    {
     "data": {
      "text/plain": [
       "'{\"location\":{\"0\":\"loc_0\",\"1\":\"loc_0\",\"2\":\"loc_0\",\"3\":\"loc_0\",\"4\":\"loc_0\"},\"car_type\":{\"0\":\"comfort\",\"1\":\"comfort\",\"2\":\"comfort\",\"3\":\"comfort\",\"4\":\"comfort\"},\"hour\":{\"0\":16,\"1\":16,\"2\":16,\"3\":16,\"4\":17},\"count\":{\"0\":1,\"1\":1,\"2\":3,\"3\":5,\"4\":2}}'"
      ]
     },
     "execution_count": 3,
     "metadata": {},
     "output_type": "execute_result"
    }
   ],
   "source": []
  },
  {
   "cell_type": "code",
   "execution_count": null,
   "metadata": {},
   "outputs": [],
   "source": []
  }
 ],
 "metadata": {
  "kernelspec": {
   "display_name": "Python 3.8.5 ('dlresearch')",
   "language": "python",
   "name": "python3"
  },
  "language_info": {
   "codemirror_mode": {
    "name": "ipython",
    "version": 3
   },
   "file_extension": ".py",
   "mimetype": "text/x-python",
   "name": "python",
   "nbconvert_exporter": "python",
   "pygments_lexer": "ipython3",
   "version": "3.8.5"
  },
  "orig_nbformat": 4,
  "vscode": {
   "interpreter": {
    "hash": "8858a4df92b06e9052bc306608e3218c33233584bc6448961c72d65ba55843de"
   }
  }
 },
 "nbformat": 4,
 "nbformat_minor": 2
}
