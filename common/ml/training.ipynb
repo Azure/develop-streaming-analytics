{
 "cells": [
  {
   "cell_type": "markdown",
   "metadata": {},
   "source": [
    "### Loading data"
   ]
  },
  {
   "cell_type": "code",
   "execution_count": 49,
   "metadata": {},
   "outputs": [
    {
     "data": {
      "text/html": [
       "<div>\n",
       "<style scoped>\n",
       "    .dataframe tbody tr th:only-of-type {\n",
       "        vertical-align: middle;\n",
       "    }\n",
       "\n",
       "    .dataframe tbody tr th {\n",
       "        vertical-align: top;\n",
       "    }\n",
       "\n",
       "    .dataframe thead th {\n",
       "        text-align: right;\n",
       "    }\n",
       "</style>\n",
       "<table border=\"1\" class=\"dataframe\">\n",
       "  <thead>\n",
       "    <tr style=\"text-align: right;\">\n",
       "      <th></th>\n",
       "      <th>location</th>\n",
       "      <th>car_type</th>\n",
       "      <th>starttime</th>\n",
       "      <th>count</th>\n",
       "    </tr>\n",
       "  </thead>\n",
       "  <tbody>\n",
       "    <tr>\n",
       "      <th>0</th>\n",
       "      <td>loc_0</td>\n",
       "      <td>comfort</td>\n",
       "      <td>2022-11-07 16:40:00</td>\n",
       "      <td>1</td>\n",
       "    </tr>\n",
       "    <tr>\n",
       "      <th>1</th>\n",
       "      <td>loc_0</td>\n",
       "      <td>comfort</td>\n",
       "      <td>2022-11-07 16:45:00</td>\n",
       "      <td>1</td>\n",
       "    </tr>\n",
       "    <tr>\n",
       "      <th>2</th>\n",
       "      <td>loc_0</td>\n",
       "      <td>comfort</td>\n",
       "      <td>2022-11-07 16:50:00</td>\n",
       "      <td>3</td>\n",
       "    </tr>\n",
       "    <tr>\n",
       "      <th>3</th>\n",
       "      <td>loc_0</td>\n",
       "      <td>comfort</td>\n",
       "      <td>2022-11-07 16:55:00</td>\n",
       "      <td>5</td>\n",
       "    </tr>\n",
       "    <tr>\n",
       "      <th>4</th>\n",
       "      <td>loc_0</td>\n",
       "      <td>comfort</td>\n",
       "      <td>2022-11-07 17:00:00</td>\n",
       "      <td>2</td>\n",
       "    </tr>\n",
       "  </tbody>\n",
       "</table>\n",
       "</div>"
      ],
      "text/plain": [
       "  location car_type           starttime  count\n",
       "0    loc_0  comfort 2022-11-07 16:40:00      1\n",
       "1    loc_0  comfort 2022-11-07 16:45:00      1\n",
       "2    loc_0  comfort 2022-11-07 16:50:00      3\n",
       "3    loc_0  comfort 2022-11-07 16:55:00      5\n",
       "4    loc_0  comfort 2022-11-07 17:00:00      2"
      ]
     },
     "execution_count": 49,
     "metadata": {},
     "output_type": "execute_result"
    }
   ],
   "source": [
    "import pandas as pd\n",
    "from sklearn.ensemble import IsolationForest\n",
    "from sklearn.preprocessing import OneHotEncoder,MinMaxScaler\n",
    "from sklearn.model_selection import train_test_split\n",
    "from sklearn.compose import ColumnTransformer\n",
    "import torch as T\n",
    "device = \"cpu\"\n",
    "\n",
    "demand_data = pd.read_csv(\"../simulated_data/simulated_demand.csv\")\n",
    "demand_data.starttime = pd.to_datetime(demand_data.starttime)\n",
    "demand_data=demand_data.groupby([\"location\", \"car_type\"]).resample(\"5min\", on=\"starttime\")[\"id\"].count().reset_index(name=\"count\")\n",
    "demand_data.head()\n"
   ]
  },
  {
   "cell_type": "markdown",
   "metadata": {},
   "source": [
    "### Pytorch auto-encoder"
   ]
  },
  {
   "cell_type": "code",
   "execution_count": 50,
   "metadata": {},
   "outputs": [
    {
     "name": "stdout",
     "output_type": "stream",
     "text": [
      "Training input shape:  torch.Size([2682, 1, 20, 25])\n"
     ]
    }
   ],
   "source": [
    "import numpy as np\n",
    "TIME_STEPS = 20\n",
    "\n",
    "# Generated training sequences for use in the model.\n",
    "def create_sequences(values, time_steps=TIME_STEPS):\n",
    "    output = []  \n",
    "    for i in range(len(values) - time_steps + 1):\n",
    "        output.append(values[i : (i + time_steps)])\n",
    "    return np.stack(output)\n",
    "mean =demand_data['count'].mean()\n",
    "std = demand_data['count'].std()\n",
    "demand_data['count'] = (demand_data['count']- mean)/std\n",
    "demand_data_encoded = pd.get_dummies(demand_data, columns=['location', 'car_type'])\n",
    "demand_data_encoded =demand_data_encoded.drop(\"starttime\", axis=1)\n",
    "\n",
    "x_train = create_sequences(demand_data_encoded.values)\n",
    "# x_train= np.float32(x_train)\n",
    "x_train = np.expand_dims(x_train, 1)\n",
    "x_train = T.tensor(np.float32(x_train), dtype=T.float32).to(device) \n",
    "\n",
    "print(\"Training input shape: \", x_train.shape)\n"
   ]
  },
  {
   "cell_type": "code",
   "execution_count": 12,
   "metadata": {},
   "outputs": [],
   "source": [
    "import torch as T\n",
    "class Autoencoder(T.nn.Module):  # 65-32-8-32-65\n",
    "  def __init__(self):\n",
    "    super(Autoencoder, self).__init__()\n",
    "    self.fc1 = T.nn.Conv2d(1,32,7)\n",
    "    self.fc2 = T.nn.Conv2d(32,16,7)\n",
    "    self.fc3 = T.nn.ConvTranspose2d(16,32,7)\n",
    "    self.fc4 = T.nn.ConvTranspose2d(32,1,7)\n",
    "    # self.fc5 = T.nn.ConvTranspose2d(32,1,7)\n",
    "\n",
    "  def encode(self, x):  # 65-32-8\n",
    "    z = T.tanh(self.fc1(x))\n",
    "    z = T.tanh(self.fc2(z))  # latent in [-1,+1]\n",
    "    return z  \n",
    "\n",
    "  def decode(self, x):  # 8-32-65\n",
    "    z = T.tanh(self.fc3(x))\n",
    "    z = T.sigmoid(self.fc4(z))\n",
    "    # z = T.sigmoid(self.fc5(z))  # [0.0, 1.0]\n",
    "    return z\n",
    "    \n",
    "  def forward(self, x):\n",
    "    z = self.encode(x) \n",
    "    z = self.decode(z) \n",
    "    return z  # in [0.0, 1.0]"
   ]
  },
  {
   "cell_type": "code",
   "execution_count": 60,
   "metadata": {},
   "outputs": [],
   "source": [
    "import os\n",
    "\n",
    "\n",
    "def train(ae, ds, bs, me, le, lr):\n",
    "  # autoencoder, dataset, batch_size, max_epochs,\n",
    "  # log_every, learn_rate\n",
    "  # assumes ae.train() has been set\n",
    "  data_ldr = T.utils.data.DataLoader(ds, batch_size=bs,\n",
    "    shuffle=True)\n",
    "  loss_func = T.nn.MSELoss()\n",
    "  opt = T.optim.SGD(ae.parameters(), lr=lr)\n",
    "  print(\"\\nStarting training\")\n",
    "  for epoch in range(0, me):\n",
    "    epoch_loss = 0.0\n",
    "    for (batch_idx, batch) in enumerate(data_ldr):\n",
    "      X = batch  # inputs\n",
    "      Y = batch  # targets (same as inputs)\n",
    "\n",
    "      opt.zero_grad()                # prepare gradients\n",
    "      oupt = ae(X)                   # compute output/target\n",
    "      # print(\"oupt shape\", oupt.shape)\n",
    "      loss_val = loss_func(oupt, Y)  # a tensor\n",
    "      epoch_loss += loss_val.item()  # accumulate for display\n",
    "      loss_val.backward()            # compute gradients\n",
    "      opt.step()                     # update weights\n",
    "\n",
    "    if epoch % le == 0:\n",
    "      print(\"epoch = %4d   loss = %0.4f\" % (epoch, epoch_loss))\n",
    "    os.makedirs(\"models\", exist_ok=True)\n",
    "    T.save(ae.state_dict(),\"models/autoencoder.json\" )\n",
    "  print(\"Done \")\n",
    "  \n",
    "\n",
    "def make_err_list(model, ds):\n",
    "  # assumes model.eval()\n",
    "  result_lst = []\n",
    "  n_features = len(ds[0])  # 65\n",
    "  for i in range(len(ds)):\n",
    "    X = ds[i]\n",
    "    with T.no_grad():\n",
    "      Y = model(X)  # should be same as X\n",
    "    err = T.sum((X-Y)*(X-Y)).item()  # SSE all features\n",
    "    err = err / n_features           # sort of norm'ed SSE \n",
    "    result_lst.append( (i,err) )     # idx of data item, err\n",
    "  return result_lst \n",
    "\n",
    "# -----------------------------------------------------------\n",
    "\n",
    "def main():\n",
    "  # 0. get started\n",
    "  print(\"\\nBegin autoencoder anomaly demo \")\n",
    "  T.manual_seed(1)\n",
    "  np.random.seed(1)\n",
    "\n",
    "\n",
    "  # 2. create autoencoder net\n",
    "  print(\"\\nCreating a 65-32-8-32-65 autoencoder \")\n",
    "  autoenc = Autoencoder().to(device)\n",
    "  autoenc.train()   # set mode\n",
    "\n",
    "  # 3. train autoencoder model\n",
    "  bat_size = 10\n",
    "  max_epochs = 100\n",
    "  log_interval = 10\n",
    "  lrn_rate = 0.005\n",
    "\n",
    "  print(\"\\nbat_size = %3d \" % bat_size)\n",
    "  print(\"max epochs = \" + str(max_epochs))\n",
    "  print(\"loss = MSELoss\")\n",
    "  print(\"optimizer = SGD\")\n",
    "  print(\"lrn_rate = %0.3f \" % lrn_rate)\n",
    "  train(autoenc, x_train, bat_size, max_epochs, \\\n",
    "    log_interval, lrn_rate) \n",
    "\n",
    "  # 4. compute and store reconstruction errors\n",
    "  print(\"\\nComputing reconstruction errors \")\n",
    "  autoenc.eval()  # set mode\n",
    "  err_list = make_err_list(autoenc, x_train)\n",
    "  err_list.sort(key=lambda x: x[1], \\\n",
    "    reverse=True)  # high error to low\n",
    "\n",
    "  # 5. show most anomalous item\n",
    "  print(\"Largest reconstruction item / error: \")\n",
    "  (idx,err) = err_list[0]\n",
    "  print(\" [%4d]  %0.4f\" % (idx, err)) \n",
    "#   display_digit(data_ds, idx)\n",
    "\n",
    "  print(\"\\nEnd autoencoder anomaly detection demo \\n\")\n",
    "\n",
    "# -----------------------------------------------------------"
   ]
  },
  {
   "cell_type": "code",
   "execution_count": 61,
   "metadata": {},
   "outputs": [
    {
     "name": "stdout",
     "output_type": "stream",
     "text": [
      "\n",
      "Begin autoencoder anomaly demo \n",
      "\n",
      "Creating a 65-32-8-32-65 autoencoder \n",
      "\n",
      "bat_size =  10 \n",
      "max epochs = 100\n",
      "loss = MSELoss\n",
      "optimizer = SGD\n",
      "lrn_rate = 0.005 \n",
      "\n",
      "Starting training\n",
      "epoch =    0   loss = 49.9740\n",
      "epoch =   10   loss = 29.8295\n",
      "epoch =   20   loss = 22.8935\n",
      "epoch =   30   loss = 18.6574\n",
      "epoch =   40   loss = 16.8190\n",
      "epoch =   50   loss = 15.7970\n",
      "epoch =   60   loss = 15.0412\n",
      "epoch =   70   loss = 14.4225\n",
      "epoch =   80   loss = 13.9674\n",
      "epoch =   90   loss = 13.6759\n",
      "Done \n",
      "\n",
      "Computing reconstruction errors \n",
      "Largest reconstruction item / error: \n",
      " [1478]  49.6028\n",
      "\n",
      "End autoencoder anomaly detection demo \n",
      "\n"
     ]
    }
   ],
   "source": [
    "main()"
   ]
  },
  {
   "cell_type": "markdown",
   "metadata": {},
   "source": [
    "### Local scoring test"
   ]
  },
  {
   "cell_type": "code",
   "execution_count": 54,
   "metadata": {},
   "outputs": [
    {
     "data": {
      "text/plain": [
       "array([-1, -1, -1, -1, -1, -1, -1, -1, -1, -1, -1, -1, -1, -1, -1, -1, -1,\n",
       "       -1, -1, -1])"
      ]
     },
     "execution_count": 54,
     "metadata": {},
     "output_type": "execute_result"
    }
   ],
   "source": [
    "from mlflow.models.signature import infer_signature\n",
    "import mlflow\n",
    "import mlflow.pytorch\n",
    "loaded_model = Autoencoder()\n",
    "loaded_model.load_state_dict(T.load(\"models/autoencoder.json\"))\n",
    "def score(input_df, model):\n",
    "    transformed_data= transformer.transform(input_df)\n",
    "    transformed_input = create_sequences(transformed_data)\n",
    "    transformed_input = np.expand_dims(transformed_input, 1)\n",
    "    transformed_input = T.tensor(np.float32(transformed_input), dtype=T.float32).to(device) \n",
    "    Y = model(transformed_input)  # should be same as X\n",
    "    errs = T.sum((transformed_input-Y)*(transformed_input-Y), dim=[1,2,3]).detach().numpy().tolist()  #\n",
    "    anomalies = [int(err>20) for err in errs]\n",
    "    anomalous_data_indices = []\n",
    "    for data_idx in range(TIME_STEPS - 1, len(transformed_input) - TIME_STEPS + 1):\n",
    "        if np.all(anomalies[data_idx - TIME_STEPS + 1 : data_idx]):\n",
    "            anomalous_data_indices.append(data_idx)\n",
    "    anomalies =np.array([-1]*input_df.shape[0])\n",
    "    anomalies[anomalous_data_indices] =1\n",
    "    return anomalies\n",
    "# signature = infer_signature(transformed_data, score(demand_data.head, loaded_model))\n",
    "# signature\n",
    "score(demand_data.head(20), loaded_model)"
   ]
  },
  {
   "cell_type": "code",
   "execution_count": 48,
   "metadata": {},
   "outputs": [
    {
     "data": {
      "image/png": "[encoded data removed]",
      "text/plain": [
       "<Figure size 432x288 with 1 Axes>"
      ]
     },
     "metadata": {
      "needs_background": "light"
     },
     "output_type": "display_data"
    }
   ],
   "source": [
    "import matplotlib.pyplot as plt\n",
    "fig, ax = plt.subplots()\n",
    "demand_data_encoded.head(200)['count'].plot(legend=False, ax=ax)\n",
    "plt.show()\n"
   ]
  },
  {
   "cell_type": "markdown",
   "metadata": {},
   "source": [
    "#### Register model"
   ]
  },
  {
   "cell_type": "code",
   "execution_count": null,
   "metadata": {},
   "outputs": [],
   "source": [
    "az ml model create --name torch_autoencoder --version 1  --path ./models/autoencoder.json"
   ]
  },
  {
   "cell_type": "markdown",
   "metadata": {},
   "source": [
    "### Isolation Forest "
   ]
  },
  {
   "cell_type": "code",
   "execution_count": 26,
   "metadata": {},
   "outputs": [
    {
     "name": "stdout",
     "output_type": "stream",
     "text": [
      "len  541 sum 493\n"
     ]
    },
    {
     "name": "stderr",
     "output_type": "stream",
     "text": [
      "c:\\Users\\janguy\\Anaconda3\\envs\\dlresearch\\lib\\site-packages\\mlflow\\models\\signature.py:129: UserWarning: Hint: Inferred schema contains integer column(s). Integer columns in Python cannot represent missing values. If your input data contains missing values at inference time, it will be encoded as floats and will cause a schema enforcement error. The best way to avoid this problem is to infer the model schema based on a realistic data sample (training dataset) that includes missing values. Alternatively, you can declare integer columns as doubles (float64) whenever these columns may have missing values. See `Handling Integers With Missing Values <https://www.mlflow.org/docs/latest/models.html#handling-integers-with-missing-values>`_ for more details.\n",
      "  inputs = _infer_schema(model_input)\n"
     ]
    }
   ],
   "source": [
    "import random\n",
    "from sklearn.pipeline import Pipeline\n",
    "import mlflow\n",
    "import mlflow.sklearn\n",
    "from mlflow.models.signature import infer_signature\n",
    "demand_data['hour'] = demand_data.starttime.dt.hour\n",
    "demand_data = demand_data[['location','car_type', 'hour','count']]\n",
    "\n",
    "\n",
    "ct = ColumnTransformer([(\"ohe\", OneHotEncoder(),['car_type','location'])], remainder=\"passthrough\")\n",
    "ct.fit(demand_data)\n",
    "X_train, X_test = train_test_split(demand_data,test_size=0.2)\n",
    "# X_test['count'] = X_test['count'] \n",
    "\n",
    "clf = IsolationForest(contamination=0.04)\n",
    "pipeline = Pipeline([(\"ct\", ct), (\"model\", clf)])\n",
    "\n",
    "pipeline.fit(X_train)\n",
    "predictions = pipeline.predict(X_test)\n",
    "print(\"len \", len(predictions), \"sum\", sum(predictions))\n",
    "signature = infer_signature(X_train, pipeline.predict(X_train))\n",
    "# mlflow.sklearn.log_model(pipeline, \"isolation_forest\", signature=signature)\n",
    "\n"
   ]
  },
  {
   "cell_type": "markdown",
   "metadata": {},
   "source": [
    "## Test local inference"
   ]
  },
  {
   "cell_type": "code",
   "execution_count": 28,
   "metadata": {},
   "outputs": [
    {
     "data": {
      "text/html": [
       "<div>\n",
       "<style scoped>\n",
       "    .dataframe tbody tr th:only-of-type {\n",
       "        vertical-align: middle;\n",
       "    }\n",
       "\n",
       "    .dataframe tbody tr th {\n",
       "        vertical-align: top;\n",
       "    }\n",
       "\n",
       "    .dataframe thead th {\n",
       "        text-align: right;\n",
       "    }\n",
       "</style>\n",
       "<table border=\"1\" class=\"dataframe\">\n",
       "  <thead>\n",
       "    <tr style=\"text-align: right;\">\n",
       "      <th></th>\n",
       "      <th>hour</th>\n",
       "      <th>count</th>\n",
       "      <th>location_loc_0</th>\n",
       "      <th>location_loc_14</th>\n",
       "      <th>location_loc_19</th>\n",
       "      <th>location_loc_5</th>\n",
       "      <th>location_loc_8</th>\n",
       "      <th>car_type_comfort</th>\n",
       "      <th>car_type_x</th>\n",
       "      <th>car_type_xl</th>\n",
       "    </tr>\n",
       "  </thead>\n",
       "  <tbody>\n",
       "    <tr>\n",
       "      <th>104</th>\n",
       "      <td>16</td>\n",
       "      <td>6</td>\n",
       "      <td>1</td>\n",
       "      <td>0</td>\n",
       "      <td>0</td>\n",
       "      <td>0</td>\n",
       "      <td>0</td>\n",
       "      <td>0</td>\n",
       "      <td>0</td>\n",
       "      <td>1</td>\n",
       "    </tr>\n",
       "    <tr>\n",
       "      <th>2043</th>\n",
       "      <td>18</td>\n",
       "      <td>2</td>\n",
       "      <td>0</td>\n",
       "      <td>0</td>\n",
       "      <td>0</td>\n",
       "      <td>1</td>\n",
       "      <td>0</td>\n",
       "      <td>1</td>\n",
       "      <td>0</td>\n",
       "      <td>0</td>\n",
       "    </tr>\n",
       "    <tr>\n",
       "      <th>841</th>\n",
       "      <td>19</td>\n",
       "      <td>3</td>\n",
       "      <td>0</td>\n",
       "      <td>1</td>\n",
       "      <td>0</td>\n",
       "      <td>0</td>\n",
       "      <td>0</td>\n",
       "      <td>1</td>\n",
       "      <td>0</td>\n",
       "      <td>0</td>\n",
       "    </tr>\n",
       "    <tr>\n",
       "      <th>1511</th>\n",
       "      <td>18</td>\n",
       "      <td>3</td>\n",
       "      <td>0</td>\n",
       "      <td>0</td>\n",
       "      <td>1</td>\n",
       "      <td>0</td>\n",
       "      <td>0</td>\n",
       "      <td>1</td>\n",
       "      <td>0</td>\n",
       "      <td>0</td>\n",
       "    </tr>\n",
       "    <tr>\n",
       "      <th>2531</th>\n",
       "      <td>19</td>\n",
       "      <td>3</td>\n",
       "      <td>0</td>\n",
       "      <td>0</td>\n",
       "      <td>0</td>\n",
       "      <td>0</td>\n",
       "      <td>1</td>\n",
       "      <td>0</td>\n",
       "      <td>1</td>\n",
       "      <td>0</td>\n",
       "    </tr>\n",
       "  </tbody>\n",
       "</table>\n",
       "</div>"
      ],
      "text/plain": [
       "      hour  count  location_loc_0  location_loc_14  location_loc_19  \\\n",
       "104     16      6               1                0                0   \n",
       "2043    18      2               0                0                0   \n",
       "841     19      3               0                1                0   \n",
       "1511    18      3               0                0                1   \n",
       "2531    19      3               0                0                0   \n",
       "\n",
       "      location_loc_5  location_loc_8  car_type_comfort  car_type_x  \\\n",
       "104                0               0                 0           0   \n",
       "2043               1               0                 1           0   \n",
       "841                0               0                 1           0   \n",
       "1511               0               0                 1           0   \n",
       "2531               0               1                 0           1   \n",
       "\n",
       "      car_type_xl  \n",
       "104             1  \n",
       "2043            0  \n",
       "841             0  \n",
       "1511            0  \n",
       "2531            0  "
      ]
     },
     "execution_count": 28,
     "metadata": {},
     "output_type": "execute_result"
    }
   ],
   "source": [
    "pd.get_dummies(X_train[:5])"
   ]
  },
  {
   "cell_type": "code",
   "execution_count": 10,
   "metadata": {},
   "outputs": [
    {
     "data": {
      "text/plain": [
       "array([1, 1, 1, 1, 1])"
      ]
     },
     "execution_count": 10,
     "metadata": {},
     "output_type": "execute_result"
    }
   ],
   "source": [
    "import mlflow\n",
    "\n",
    "model = mlflow.sklearn.load_model(model_uri=\"mlruns/0/6e98d315dbf142dc895bcd92d44dc5b9/artifacts/isolation_forest/\")\n",
    "demand_data.starttime = pd.to_datetime(demand_data.starttime)\n",
    "demand_data['hour'] = demand_data.starttime.dt.hour\n",
    "demand_data = demand_data[['location','car_type', 'hour','count']]\n",
    "model.predict(demand_data.head())"
   ]
  },
  {
   "cell_type": "markdown",
   "metadata": {},
   "source": [
    "## Deployment "
   ]
  },
  {
   "cell_type": "code",
   "execution_count": null,
   "metadata": {},
   "outputs": [],
   "source": [
    "demand_data.head()"
   ]
  },
  {
   "cell_type": "markdown",
   "metadata": {},
   "source": [
    "az ml model create --name isolation_forest --version 1 --type mlflow_model --path ./mlruns/0/6e98d315dbf142dc895bcd92d44dc5b9/artifacts/isolation_forest/ "
   ]
  },
  {
   "cell_type": "code",
   "execution_count": 20,
   "metadata": {},
   "outputs": [
    {
     "name": "stdout",
     "output_type": "stream",
     "text": [
      "b'[1, 1, 1, 1, 1]'\n"
     ]
    }
   ],
   "source": [
    "import urllib.request\n",
    "import json\n",
    "import os\n",
    "import ssl\n",
    "\n",
    "def allowSelfSignedHttps(allowed):\n",
    "    # bypass the server certificate verification on client side\n",
    "    if allowed and not os.environ.get('PYTHONHTTPSVERIFY', '') and getattr(ssl, '_create_unverified_context', None):\n",
    "        ssl._create_default_https_context = ssl._create_unverified_context\n",
    "\n",
    "allowSelfSignedHttps(True) # this line is needed if you use self-signed certificate in your scoring service.\n",
    "\n",
    "# Request data goes here\n",
    "# The example below assumes JSON formatting which may be updated\n",
    "# depending on the format your endpoint expects.\n",
    "# More information can be found here:\n",
    "# https://docs.microsoft.com/azure/machine-learning/how-to-deploy-advanced-entry-script\n",
    "data =  {\n",
    "  \"Inputs\": {\n",
    "    \"data\": [\n",
    "      {\n",
    "        \"location\": \"loc_0\",\n",
    "        \"car_type\": \"comfort\",\n",
    "        \"hour\": 15,\n",
    "        \"count\": 2\n",
    "      },\n",
    "      {\n",
    "        \"location\": \"loc_0\",\n",
    "        \"car_type\": \"comfort\",\n",
    "        \"hour\": 16,\n",
    "        \"count\": 3\n",
    "      }\n",
    "    ]\n",
    "  }\n",
    "}\n",
    "data =  {\n",
    "  \"Inputs\": {\n",
    "    \"data\": demand_data.head().to_dict()\n",
    "  }\n",
    "}\n",
    "\n",
    "body = str.encode(json.dumps(data))\n",
    "\n",
    "url = 'https://anomaly-detection.westus.inference.ml.azure.com/score'\n",
    "api_key = 'x02RC8IWFJ5z7l6g3ya290vuyVxGRIjn' # Replace this with the API key for the web service\n",
    "\n",
    "# The azureml-model-deployment header will force the request to go to a specific deployment.\n",
    "# Remove this header to have the request observe the endpoint traffic rules\n",
    "headers = {'Content-Type':'application/json', 'Authorization':('Bearer '+ api_key), 'azureml-model-deployment': 'deployment2' }\n",
    "\n",
    "req = urllib.request.Request(url, body, headers)\n",
    "\n",
    "try:\n",
    "    response = urllib.request.urlopen(req)\n",
    "\n",
    "    result = response.read()\n",
    "    print(result)\n",
    "except urllib.error.HTTPError as error:\n",
    "    print(\"The request failed with status code: \" + str(error.code))\n",
    "\n",
    "    # Print the headers - they include the requert ID and the timestamp, which are useful for debugging the failure\n",
    "    print(error.info())\n",
    "    print(error.read().decode(\"utf8\", 'ignore'))"
   ]
  }
 ],
 "metadata": {
  "kernelspec": {
   "display_name": "Python 3.8.5 ('dlresearch')",
   "language": "python",
   "name": "python3"
  },
  "language_info": {
   "codemirror_mode": {
    "name": "ipython",
    "version": 3
   },
   "file_extension": ".py",
   "mimetype": "text/x-python",
   "name": "python",
   "nbconvert_exporter": "python",
   "pygments_lexer": "ipython3",
   "version": "3.8.5"
  },
  "orig_nbformat": 4,
  "vscode": {
   "interpreter": {
    "hash": "8858a4df92b06e9052bc306608e3218c33233584bc6448961c72d65ba55843de"
   }
  }
 },
 "nbformat": 4,
 "nbformat_minor": 2
}
