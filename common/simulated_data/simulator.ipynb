{
 "cells": [
  {
   "cell_type": "code",
   "execution_count": 48,
   "metadata": {},
   "outputs": [],
   "source": [
    "#Generate data for modeling\n",
    "\n",
    "import asyncio\n",
    "import datetime\n",
    "import time\n",
    "import pandas as pd\n",
    "\n",
    "from azure.eventhub.aio import EventHubProducerClient\n",
    "from azure.eventhub import EventData\n",
    "import random\n",
    "import json\n",
    "import argparse\n",
    "import os\n",
    "import time\n",
    "\n",
    "locations = [\"loc_\"+str(i) for i in range(20)]\n",
    "riders = [\"r_\"+str(i) for i in range(100000)]\n",
    "cars = [\"c_\"+str(i) for i in range(1000)]\n",
    "types = [\"x\", \"xl\", \"green\", \"comfort\"]\n",
    "avail_duration=5\n",
    "def create_requests_data(repeats=10000):\n",
    "    # Without specifying partition_id or partition_key\n",
    "    # the events will be distributed to available partitions via round-robin.\n",
    "    requests =[]\n",
    "    for repeat in range(repeats):\n",
    "        request_type = random.choice(types)\n",
    "        from_location = random.choice(locations)            \n",
    "        to_location = random.choice(locations)\n",
    "        timestamp= datetime.datetime.now()+ datetime.timedelta(0,repeat)\n",
    "        id = \"r_\"+from_location+\"_\"+to_location+\"_\"+request_type+ str(timestamp.timestamp())\n",
    "        record = {\"id\":id,\"timestamp\":str(timestamp), \"from_loc\":from_location, \"to_loc\":to_location, \"request_type\":request_type}\n",
    "        requests.append(record)\n",
    "    requests = pd.DataFrame(requests)\n",
    "    return requests\n",
    "def create_demand_data(repeats=10000):\n",
    "    # Without specifying partition_id or partition_key\n",
    "    # the events will be distributed to available partitions via round-robin.\n",
    "    demand = []\n",
    "    for repeat in range(repeats):\n",
    "        car_type = random.choice(types)\n",
    "        location = random.choice(locations)\n",
    "        starttime = datetime.datetime.now()+ datetime.timedelta(0,repeat)\n",
    "        endtime = starttime+ datetime.timedelta(avail_duration)\n",
    "        car = random.choice(cars)\n",
    "        id = \"c_\"+location+\"_\"+car_type+\"_\"+ str(starttime.timestamp())\n",
    "        record = {\"id\":id,\"starttime\":str(starttime),\"endtime\":str(endtime), \"location\":location, \"car_type\":car_type, \"car_id\":car}\n",
    "        demand.append(record)\n",
    "    demand = pd.DataFrame(demand)\n",
    "    return demand\n",
    "\n",
    "\n",
    "\n"
   ]
  },
  {
   "cell_type": "code",
   "execution_count": 52,
   "metadata": {},
   "outputs": [],
   "source": [
    "requests = create_requests_data()\n",
    "demand = create_demand_data()\n",
    "requests.to_csv(\"simulated_requests.csv\")\n",
    "demand.to_csv(\"simulated_demand.csv\")"
   ]
  }
 ],
 "metadata": {
  "kernelspec": {
   "display_name": "Python 3.8.5 ('dlresearch')",
   "language": "python",
   "name": "python3"
  },
  "language_info": {
   "codemirror_mode": {
    "name": "ipython",
    "version": 3
   },
   "file_extension": ".py",
   "mimetype": "text/x-python",
   "name": "python",
   "nbconvert_exporter": "python",
   "pygments_lexer": "ipython3",
   "version": "3.8.5"
  },
  "orig_nbformat": 4,
  "vscode": {
   "interpreter": {
    "hash": "8858a4df92b06e9052bc306608e3218c33233584bc6448961c72d65ba55843de"
   }
  }
 },
 "nbformat": 4,
 "nbformat_minor": 2
}
