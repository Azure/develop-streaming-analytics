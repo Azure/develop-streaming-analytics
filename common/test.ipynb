{
 "cells": [
  {
   "cell_type": "code",
   "execution_count": null,
   "metadata": {},
   "outputs": [],
   "source": [
    "import collections\n",
    "from datetime import datetime\n",
    "\n",
    "def build_history(new_event_time, new_event_value, new_attribute, base_line_attribute_name, baseline_event_value, baseline_event_time):\n",
    "    # Create a dictionary to store the baseline attributes and their values\n",
    "    baseline_event_value = \" \".join(baseline_event_value)\n",
    "    baseline_attributes = dict(zip(base_line_attribute_name, baseline_event_value))\n",
    "    \n",
    "    # Create a list to store the history of records\n",
    "    history = []\n",
    "    \n",
    "    # Convert the baseline event time to a datetime object\n",
    "    baseline_time = datetime.strptime(baseline_event_time, \"%Y-%m-%dT%H:%M:%S.%fZ\")\n",
    "    \n",
    "    # Add the baseline attributes and time to the history list\n",
    "    history.append({\"timestamp\": baseline_time, \"attributes\": baseline_attributes})\n",
    "    \n",
    "    # Sort the new events by their timestamps\n",
    "    new_events = sorted(zip(new_event_time, new_event_value, new_attribute), key=lambda x: datetime.strptime(x[0], \"%Y-%m-%dT%H:%M:%S.%fZ\"))\n",
    "    \n",
    "    # Travel backward to build the history of events before the baseline\n",
    "    for i in range(len(new_events) - 1, -1, -1):\n",
    "        event_time, event_value, event_attribute = new_events[i]\n",
    "        event_time = datetime.strptime(event_time, \"%Y-%m-%dT%H:%M:%S.%fZ\")\n",
    "        \n",
    "        # If the event timestamp is before the baseline, add it to the history\n",
    "        if event_time < baseline_time:\n",
    "            attributes = baseline_attributes.copy()\n",
    "            attributes[event_attribute] = event_value\n",
    "            history.append({\"timestamp\": event_time, \"attributes\": attributes})\n",
    "        else:\n",
    "            # Stop when the timestamps are no longer before the baseline\n",
    "            break\n",
    "    \n",
    "    # Travel forward to build the history of events after the baseline\n",
    "    for i in range(len(new_events)):\n",
    "        event_time, event_value, event_attribute = new_events[i]\n",
    "        event_time = datetime.strptime(event_time, \"%Y-%m-%dT%H:%M:%S.%fZ\")\n",
    "        \n",
    "        # If the event timestamp is after the baseline, add it to the history\n",
    "        if event_time > baseline_time:\n",
    "            attributes = baseline_attributes.copy()\n",
    "            attributes[event_attribute] = event_value\n",
    "            history.append({\"timestamp\": event_time, \"attributes\": attributes})\n",
    "        else:\n",
    "            # Stop when the timestamps are no longer after the baseline\n",
    "            break\n",
    "    \n",
    "    # Sort the history by timestamp\n",
    "    history = sorted(history, key=lambda x: x[\"timestamp\"])\n",
    "    \n",
    "    return history\n",
    "\n"
   ]
  },
  {
   "cell_type": "code",
   "execution_count": null,
   "metadata": {},
   "outputs": [],
   "source": [
    "new_event_time= [\"2023-01-29T10:51:31.024473Z\",\"2023-01-29T10:51:31.038115Z\",\"2023-01-29T10:51:31.054049Z\"]\n",
    "new_event_value= [9.090909090909092,79.7979797979798,84.84848484848486]\n",
    "new_attribute=[\"attr_7\",\"attr_4\",\"attr_4\"]\n",
    "base_line_attribute_name= [\"attr_1\",\"attr_2\",\"attr_3\",\"attr_4\",\"attr_5\",\"attr_6\",\"attr_7\",\"attr_8\",\"attr_9\", \"attr_10\"]\n",
    "baseline_event_value= \"value1 value2 value3 value4 value5 value6 value7 value8 value9 value10\"\n",
    "\n",
    "baseline_event_time= \"2023-01-29T11:51:31.024473Z\"\n",
    "build_history(new_event_time, new_event_value, new_attribute, base_line_attribute_name, baseline_event_value, baseline_event_time)"
   ]
  },
  {
   "cell_type": "code",
   "execution_count": null,
   "metadata": {},
   "outputs": [],
   "source": []
  }
 ],
 "metadata": {
  "kernelspec": {
   "display_name": "base",
   "language": "python",
   "name": "python3"
  },
  "language_info": {
   "name": "python",
   "version": "3.8.3 (default, Jul  2 2020, 17:30:36) [MSC v.1916 64 bit (AMD64)]"
  },
  "orig_nbformat": 4,
  "vscode": {
   "interpreter": {
    "hash": "29fdeb6da9c771b0c419c0f0b15c61c059001b11131a04f41678f9d7851d7690"
   }
  }
 },
 "nbformat": 4,
 "nbformat_minor": 2
}
