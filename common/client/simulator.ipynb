{
 "cells": [
  {
   "cell_type": "code",
   "execution_count": 5,
   "metadata": {},
   "outputs": [
    {
     "ename": "AttributeError",
     "evalue": "'coroutine' object has no attribute 'add'",
     "output_type": "error",
     "traceback": [
      "\u001b[1;31m---------------------------------------------------------------------------\u001b[0m",
      "\u001b[1;31mAttributeError\u001b[0m                            Traceback (most recent call last)",
      "\u001b[1;32m<ipython-input-5-13c5472a0d4d>\u001b[0m in \u001b[0;36m<module>\u001b[1;34m\u001b[0m\n\u001b[0;32m     23\u001b[0m             \u001b[0mtimestamp\u001b[0m \u001b[1;33m=\u001b[0m \u001b[0mdatetime\u001b[0m\u001b[1;33m.\u001b[0m\u001b[0mdatetime\u001b[0m\u001b[1;33m.\u001b[0m\u001b[0mnow\u001b[0m\u001b[1;33m(\u001b[0m\u001b[1;33m)\u001b[0m\u001b[1;33m\u001b[0m\u001b[1;33m\u001b[0m\u001b[0m\n\u001b[0;32m     24\u001b[0m             \u001b[0mrecord\u001b[0m \u001b[1;33m=\u001b[0m \u001b[1;33m{\u001b[0m\u001b[1;34m\"timestamp\"\u001b[0m\u001b[1;33m:\u001b[0m\u001b[0mtimestamp\u001b[0m\u001b[1;33m,\u001b[0m \u001b[1;34m\"from_loc\"\u001b[0m\u001b[1;33m:\u001b[0m\u001b[0mfrom_location\u001b[0m\u001b[1;33m,\u001b[0m \u001b[1;34m\"to_loc\"\u001b[0m\u001b[1;33m:\u001b[0m\u001b[0mto_location\u001b[0m\u001b[1;33m,\u001b[0m \u001b[1;34m\"region\"\u001b[0m\u001b[1;33m:\u001b[0m\u001b[0mregion\u001b[0m\u001b[1;33m}\u001b[0m\u001b[1;33m\u001b[0m\u001b[1;33m\u001b[0m\u001b[0m\n\u001b[1;32m---> 25\u001b[1;33m             \u001b[1;32mawait\u001b[0m \u001b[0mevent_batch\u001b[0m\u001b[1;33m.\u001b[0m\u001b[0madd\u001b[0m\u001b[1;33m(\u001b[0m\u001b[0mEventData\u001b[0m\u001b[1;33m(\u001b[0m\u001b[0mrecord\u001b[0m\u001b[1;33m)\u001b[0m\u001b[1;33m)\u001b[0m\u001b[1;33m\u001b[0m\u001b[1;33m\u001b[0m\u001b[0m\n\u001b[0m\u001b[0;32m     26\u001b[0m \u001b[1;33m\u001b[0m\u001b[0m\n\u001b[0;32m     27\u001b[0m     \u001b[0mproducer\u001b[0m\u001b[1;33m.\u001b[0m\u001b[0msend_batch\u001b[0m\u001b[1;33m(\u001b[0m\u001b[0mevent_batch\u001b[0m\u001b[1;33m)\u001b[0m\u001b[1;33m\u001b[0m\u001b[1;33m\u001b[0m\u001b[0m\n",
      "\u001b[1;31mAttributeError\u001b[0m: 'coroutine' object has no attribute 'add'"
     ]
    }
   ],
   "source": [
    "import datetime\n",
    "import time\n",
    "import pandas as pd\n",
    "\n",
    "from azure.eventhub.aio import EventHubProducerClient\n",
    "from azure.eventhub import EventData\n",
    "\n",
    "from_locations = [\"from_loc\"+str(i) for i in range(10)]\n",
    "to_locations= [\"to_loc\"+str(i) for i in range(10)]\n",
    "regions = [\"region_\"+str(i) for i in range(31)]\n",
    "\n",
    "\n",
    "con_str =\"Endpoint=sb://kafkaeventhub01.servicebus.windows.net/;SharedAccessKeyName=send_listen;SharedAccessKey=2TesxeNC+taEkRr14G6qsGQhRmJGKAJ+Nb0Mrfj3W6I=;EntityPath=ride_requests\"\n",
    "producer = EventHubProducerClient.from_connection_string(conn_str=con_str, eventhub_name=\"ride_requests\")\n",
    "\n",
    "\n",
    "for region in regions:\n",
    "    records ={\"timestamp\":[], \"from_loc\":[], \"to_loc\":[]}\n",
    "    event_batch = producer.create_batch(partition_key=region)\n",
    "    for from_location in from_locations:\n",
    "        for to_location in to_locations:\n",
    "            \n",
    "            timestamp = datetime.datetime.now()\n",
    "            record = {\"timestamp\":timestamp, \"from_loc\":from_location, \"to_loc\":to_location, \"region\":region}\n",
    "            await event_batch.add(EventData(record))\n",
    "\n",
    "    producer.send_batch(event_batch)\n",
    "\n",
    "\n"
   ]
  },
  {
   "cell_type": "code",
   "execution_count": 2,
   "metadata": {},
   "outputs": [],
   "source": [
    "\n",
    "event_batch = producer.create_batch(partition_key=\"region_1\")"
   ]
  },
  {
   "cell_type": "code",
   "execution_count": 7,
   "metadata": {},
   "outputs": [
    {
     "name": "stderr",
     "output_type": "stream",
     "text": [
      "<ipython-input-7-b1e44b4f5735>:1: RuntimeWarning: coroutine 'EventHubProducerClient.create_batch' was never awaited\n",
      "  event_data_batch = producer.create_batch()\n",
      "RuntimeWarning: Enable tracemalloc to get the object allocation traceback\n"
     ]
    },
    {
     "ename": "TypeError",
     "evalue": "send() takes exactly one argument (0 given)",
     "output_type": "error",
     "traceback": [
      "\u001b[1;31m---------------------------------------------------------------------------\u001b[0m",
      "\u001b[1;31mTypeError\u001b[0m                                 Traceback (most recent call last)",
      "\u001b[1;32m<ipython-input-7-b1e44b4f5735>\u001b[0m in \u001b[0;36m<module>\u001b[1;34m\u001b[0m\n\u001b[0;32m      1\u001b[0m \u001b[0mevent_data_batch\u001b[0m \u001b[1;33m=\u001b[0m \u001b[0mproducer\u001b[0m\u001b[1;33m.\u001b[0m\u001b[0mcreate_batch\u001b[0m\u001b[1;33m(\u001b[0m\u001b[1;33m)\u001b[0m\u001b[1;33m\u001b[0m\u001b[1;33m\u001b[0m\u001b[0m\n\u001b[1;32m----> 2\u001b[1;33m \u001b[0mevent_data_batch\u001b[0m\u001b[1;33m.\u001b[0m\u001b[0msend\u001b[0m\u001b[1;33m(\u001b[0m\u001b[1;33m)\u001b[0m\u001b[1;33m\u001b[0m\u001b[1;33m\u001b[0m\u001b[0m\n\u001b[0m",
      "\u001b[1;31mTypeError\u001b[0m: send() takes exactly one argument (0 given)"
     ]
    }
   ],
   "source": [
    "event_data_batch = producer.create_batch()\n",
    "event_data_batch.send()\n"
   ]
  },
  {
   "cell_type": "code",
   "execution_count": 8,
   "metadata": {},
   "outputs": [
    {
     "ename": "RuntimeError",
     "evalue": "asyncio.run() cannot be called from a running event loop",
     "output_type": "error",
     "traceback": [
      "\u001b[1;31m---------------------------------------------------------------------------\u001b[0m",
      "\u001b[1;31mRuntimeError\u001b[0m                              Traceback (most recent call last)",
      "\u001b[1;32m<ipython-input-8-b285ad8b5fe9>\u001b[0m in \u001b[0;36m<module>\u001b[1;34m\u001b[0m\n\u001b[0;32m     16\u001b[0m \u001b[1;33m\u001b[0m\u001b[0m\n\u001b[0;32m     17\u001b[0m \u001b[0mstart_time\u001b[0m \u001b[1;33m=\u001b[0m \u001b[0mtime\u001b[0m\u001b[1;33m.\u001b[0m\u001b[0mtime\u001b[0m\u001b[1;33m(\u001b[0m\u001b[1;33m)\u001b[0m\u001b[1;33m\u001b[0m\u001b[1;33m\u001b[0m\u001b[0m\n\u001b[1;32m---> 18\u001b[1;33m \u001b[0masyncio\u001b[0m\u001b[1;33m.\u001b[0m\u001b[0mrun\u001b[0m\u001b[1;33m(\u001b[0m\u001b[0mrun\u001b[0m\u001b[1;33m(\u001b[0m\u001b[1;33m)\u001b[0m\u001b[1;33m)\u001b[0m\u001b[1;33m\u001b[0m\u001b[1;33m\u001b[0m\u001b[0m\n\u001b[0m\u001b[0;32m     19\u001b[0m \u001b[0mprint\u001b[0m\u001b[1;33m(\u001b[0m\u001b[1;34m\"Send messages in {} seconds.\"\u001b[0m\u001b[1;33m.\u001b[0m\u001b[0mformat\u001b[0m\u001b[1;33m(\u001b[0m\u001b[0mtime\u001b[0m\u001b[1;33m.\u001b[0m\u001b[0mtime\u001b[0m\u001b[1;33m(\u001b[0m\u001b[1;33m)\u001b[0m \u001b[1;33m-\u001b[0m \u001b[0mstart_time\u001b[0m\u001b[1;33m)\u001b[0m\u001b[1;33m)\u001b[0m\u001b[1;33m\u001b[0m\u001b[1;33m\u001b[0m\u001b[0m\n",
      "\u001b[1;32mc:\\Users\\janguy\\Anaconda3\\envs\\dlresearch\\lib\\asyncio\\runners.py\u001b[0m in \u001b[0;36mrun\u001b[1;34m(main, debug)\u001b[0m\n\u001b[0;32m     31\u001b[0m     \"\"\"\n\u001b[0;32m     32\u001b[0m     \u001b[1;32mif\u001b[0m \u001b[0mevents\u001b[0m\u001b[1;33m.\u001b[0m\u001b[0m_get_running_loop\u001b[0m\u001b[1;33m(\u001b[0m\u001b[1;33m)\u001b[0m \u001b[1;32mis\u001b[0m \u001b[1;32mnot\u001b[0m \u001b[1;32mNone\u001b[0m\u001b[1;33m:\u001b[0m\u001b[1;33m\u001b[0m\u001b[1;33m\u001b[0m\u001b[0m\n\u001b[1;32m---> 33\u001b[1;33m         raise RuntimeError(\n\u001b[0m\u001b[0;32m     34\u001b[0m             \"asyncio.run() cannot be called from a running event loop\")\n\u001b[0;32m     35\u001b[0m \u001b[1;33m\u001b[0m\u001b[0m\n",
      "\u001b[1;31mRuntimeError\u001b[0m: asyncio.run() cannot be called from a running event loop"
     ]
    }
   ],
   "source": [
    "import asyncio\n",
    "async def send_event_data_batch(producer):\n",
    "    # Without specifying partition_id or partition_key\n",
    "    # the events will be distributed to available partitions via round-robin.\n",
    "    event_data_batch = await producer.create_batch()\n",
    "    event_data_batch.add(EventData('Single message'))\n",
    "    await producer.send_batch(event_data_batch)\n",
    "con_str = \"Endpoint=sb://kafkaeventhub01.servicebus.windows.net/;SharedAccessKeyName=testdatabricks_eventhubdatabricks_policy;SharedAccessKey=aTtr/qkL288rMacQ70xk2T3/EkpbEXFNeG8vxU3JC+8=;EntityPath=testasa\"\n",
    "producer = EventHubProducerClient.from_connection_string(conn_str=con_str)\n",
    "async def run():\n",
    "\n",
    "\n",
    "    async with producer:\n",
    "        await send_event_data_batch(producer)\n",
    "\n",
    "\n",
    "start_time = time.time()\n",
    "asyncio.run(run())\n",
    "print(\"Send messages in {} seconds.\".format(time.time() - start_time))\n"
   ]
  },
  {
   "cell_type": "code",
   "execution_count": null,
   "metadata": {},
   "outputs": [],
   "source": []
  }
 ],
 "metadata": {
  "kernelspec": {
   "display_name": "Python 3.8.5 ('dlresearch')",
   "language": "python",
   "name": "python3"
  },
  "language_info": {
   "codemirror_mode": {
    "name": "ipython",
    "version": 3
   },
   "file_extension": ".py",
   "mimetype": "text/x-python",
   "name": "python",
   "nbconvert_exporter": "python",
   "pygments_lexer": "ipython3",
   "version": "3.8.5"
  },
  "orig_nbformat": 4,
  "vscode": {
   "interpreter": {
    "hash": "8858a4df92b06e9052bc306608e3218c33233584bc6448961c72d65ba55843de"
   }
  }
 },
 "nbformat": 4,
 "nbformat_minor": 2
}
