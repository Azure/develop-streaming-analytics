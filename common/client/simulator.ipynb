{
 "cells": [
  {
   "cell_type": "code",
   "execution_count": null,
   "metadata": {},
   "outputs": [],
   "source": [
    "import datetime\n",
    "import time\n",
    "import pandas as pd\n",
    "\n",
    "from azure.eventhub.aio import EventHubProducerClient\n",
    "from azure.eventhub import EventData\n",
    "\n",
    "from_locations = [\"from_loc\"+str(i) for i in range(10)]\n",
    "to_locations= [\"to_loc\"+str(i) for i in range(10)]\n",
    "regions = [\"region_\"+str(i) for i in range(31)]\n",
    "\n",
    "\n",
    "con_str =\"Endpoint=sb://kafkaeventhub01.servicebus.windows.net/;SharedAccessKeyName=send_listen;SharedAccessKey=2TesxeNC+taEkRr14G6qsGQhRmJGKAJ+Nb0Mrfj3W6I=;EntityPath=ride_requests\"\n",
    "producer = EventHubProducerClient.from_connection_string(conn_str=con_str, eventhub_name=\"ride_requests\")\n",
    "\n",
    "\n",
    "for region in regions:\n",
    "    records ={\"timestamp\":[], \"from_loc\":[], \"to_loc\":[]}\n",
    "    event_batch = producer.create_batch(partition_key=region)\n",
    "    for from_location in from_locations:\n",
    "        for to_location in to_locations:\n",
    "            \n",
    "            timestamp = datetime.datetime.now()\n",
    "            record = {\"timestamp\":timestamp, \"from_loc\":from_location, \"to_loc\":to_location, \"region\":region}\n",
    "            await event_batch.add(EventData(record))\n",
    "\n",
    "    producer.send_batch(event_batch)\n",
    "\n",
    "\n"
   ]
  },
  {
   "cell_type": "code",
   "execution_count": null,
   "metadata": {},
   "outputs": [],
   "source": [
    "import datetime\n",
    "import time\n",
    "import pandas as pd\n",
    "\n",
    "from azure.eventhub.aio import EventHubProducerClient\n",
    "from azure.eventhub import EventData\n",
    "import random\n",
    "from_locations = [\"from_loc\"+str(i) for i in range(10)]\n",
    "to_locations= [\"to_loc\"+str(i) for i in range(10)]\n",
    "regions = [\"region_\"+str(i) for i in range(31)]\n",
    "import json\n",
    "\n",
    "con_str =\"Endpoint=sb://kafkaeventhub01.servicebus.windows.net/;SharedAccessKeyName=send_listen;SharedAccessKey=2TesxeNC+taEkRr14G6qsGQhRmJGKAJ+Nb0Mrfj3W6I=;EntityPath=ride_requests\"\n",
    "con_str =\"Endpoint=sb://kafkaeventhub01.servicebus.windows.net/;SharedAccessKeyName=new;SharedAccessKey=v5HTbc1A3TnwEFqTctg2T/f4nnQo47zn7mY/n4axhAs=\"\n",
    "producer = EventHubProducerClient.from_connection_string(conn_str=con_str, eventhub_name=\"car_availability\")\n",
    "\n",
    "cars = [\"c_\"+str(i) for i in range(1000)]\n",
    "types = [\"x\", \"xl\", \"green\", \"comfort\"]\n",
    "locations = [\"loc_\"+str(i) for i in range(50)]\n",
    "avail_duration=5\n",
    "    # Without specifying partition_id or partition_key\n",
    "    # the events will be distributed to available partitions via round-robin.\n",
    "for car_type in random.choices(types,k=len(types)):\n",
    "    event_batch = producer.create_batch(partition_key=car_type)\n",
    "    for location in random.choices(locations,k=len(locations)):\n",
    "        for _ in range(len(locations))  :            \n",
    "            starttime = datetime.datetime.now()\n",
    "            endtime = starttime+ datetime.timedelta(avail_duration)\n",
    "            car = random.choice(cars)\n",
    "            record = json.dumps({\"starttime\":str(starttime),\"endtime\":str(endtime), \"location\":location, \"car_type\":car_type, \"car_id\":car})\n",
    "            producer.send_batch(EventData(record))\n",
    "    \n",
    "\n",
    "\n"
   ]
  },
  {
   "cell_type": "code",
   "execution_count": null,
   "metadata": {},
   "outputs": [],
   "source": [
    "\n",
    "event_batch = producer.create_batch(partition_key=\"region_1\")"
   ]
  },
  {
   "cell_type": "code",
   "execution_count": null,
   "metadata": {},
   "outputs": [],
   "source": [
    "import time\n",
    "import os\n",
    "from azure.eventhub import EventHubProducerClient, EventData\n",
    "from azure.eventhub.exceptions import EventHubError\n",
    "\n",
    "CONNECTION_STR = \"Endpoint=sb://kafkaeventhub01.servicebus.windows.net/;SharedAccessKeyName=new;SharedAccessKey=ppu5N+3H/mKrUoxIrgHSJ4KwUne17N+j+EMx+83kt4w=\"\n",
    "print(CONNECTION_STR)\n",
    "EVENTHUB_NAME = \"availability\"\n",
    "\n",
    "producer = EventHubProducerClient.from_connection_string(\n",
    "    conn_str=CONNECTION_STR,\n",
    "    eventhub_name=EVENTHUB_NAME\n",
    ")\n",
    "\n",
    "\n",
    "def send_event_data_batch(producer):\n",
    "    # Without specifying partition_id or partition_key\n",
    "    # the events will be distributed to available partitions via round-robin.\n",
    "    event_data_batch = producer.create_batch()\n",
    "    event_data_batch.add(EventData('Single message'))\n",
    "    producer.send_batch(event_data_batch)"
   ]
  },
  {
   "cell_type": "code",
   "execution_count": null,
   "metadata": {},
   "outputs": [],
   "source": [
    "send_event_data_batch(producer)"
   ]
  },
  {
   "cell_type": "code",
   "execution_count": null,
   "metadata": {},
   "outputs": [],
   "source": [
    "import asyncio\n",
    "async def send_event_data_batch(producer):\n",
    "    # Without specifying partition_id or partition_key\n",
    "    # the events will be distributed to available partitions via round-robin.\n",
    "    event_data_batch = await producer.create_batch()\n",
    "    event_data_batch.add(EventData('Single message'))\n",
    "    await producer.send_batch(event_data_batch)\n",
    "con_str = \"Endpoint=sb://kafkaeventhub01.servicebus.windows.net/;SharedAccessKeyName=testdatabricks_eventhubdatabricks_policy;SharedAccessKey=aTtr/qkL288rMacQ70xk2T3/EkpbEXFNeG8vxU3JC+8=;EntityPath=testasa\"\n",
    "producer = EventHubProducerClient.from_connection_string(conn_str=con_str)\n",
    "async def run():\n",
    "\n",
    "\n",
    "    async with producer:\n",
    "        await send_event_data_batch(producer)\n",
    "\n",
    "\n",
    "start_time = time.time()\n",
    "asyncio.run(run())\n",
    "print(\"Send messages in {} seconds.\".format(time.time() - start_time))\n"
   ]
  },
  {
   "cell_type": "code",
   "execution_count": null,
   "metadata": {},
   "outputs": [],
   "source": [
    "import datetime\n",
    "str(datetime.datetime.now() + datetime.timedelta(60))"
   ]
  },
  {
   "cell_type": "code",
   "execution_count": 46,
   "metadata": {},
   "outputs": [],
   "source": [
    "from azure.cosmos import CosmosClient\n",
    "import os\n",
    "\n",
    "# URL = os.environ['ACCOUNT_URI']\n",
    "# KEY = os.environ['ACCOUNT_KEY']\n",
    "URL =\"https://cosmos002.documents.azure.com:443/\"\n",
    "KEY =\"8MBNeyCczgFTYnI7GA37RGg2XVmdxic1Nh8j8XrvFEWClVT3qw9kGqVRYPSALQn7mkDKp3cLTzC2kNP5buGf5w==\"\n",
    "client = CosmosClient(URL, credential=KEY)\n",
    "DATABASE_NAME = 'rideservice'\n",
    "database = client.get_database_client(DATABASE_NAME)\n",
    "CONTAINER_NAME = 'matched_trips'\n",
    "container = database.get_container_client(CONTAINER_NAME)\n",
    "\n",
    "# Enumerate the returned items\n",
    "import json\n",
    "result =None\n",
    "id =\"r_loc_0_loc_3_x1663282568.803203\"\n",
    "for item in container.query_items(\n",
    "        query=f'SELECT * FROM c  WHERE c.request_id=\"{id}\"',\n",
    "        enable_cross_partition_query=True):\n",
    "        result=item\n",
    "if result:\n",
    "    print(result['request_id'])"
   ]
  },
  {
   "cell_type": "code",
   "execution_count": null,
   "metadata": {},
   "outputs": [],
   "source": []
  },
  {
   "cell_type": "code",
   "execution_count": null,
   "metadata": {},
   "outputs": [],
   "source": []
  }
 ],
 "metadata": {
  "kernelspec": {
   "display_name": "Python 3.8.5 ('dlresearch')",
   "language": "python",
   "name": "python3"
  },
  "language_info": {
   "codemirror_mode": {
    "name": "ipython",
    "version": 3
   },
   "file_extension": ".py",
   "mimetype": "text/x-python",
   "name": "python",
   "nbconvert_exporter": "python",
   "pygments_lexer": "ipython3",
   "version": "3.8.5"
  },
  "orig_nbformat": 4,
  "vscode": {
   "interpreter": {
    "hash": "8858a4df92b06e9052bc306608e3218c33233584bc6448961c72d65ba55843de"
   }
  }
 },
 "nbformat": 4,
 "nbformat_minor": 2
}
